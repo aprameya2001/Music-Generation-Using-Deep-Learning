{
 "cells": [
  {
   "cell_type": "markdown",
   "id": "fundamental-insulin",
   "metadata": {},
   "source": [
    "# Generate music tracks from trained model"
   ]
  },
  {
   "cell_type": "code",
   "execution_count": 1,
   "id": "interpreted-lesson",
   "metadata": {},
   "outputs": [],
   "source": [
    "import os\n",
    "import numpy as np\n",
    "import glob\n",
    "import pickle\n",
    "from tqdm import tqdm\n",
    "from music21 import converter, instrument, note, chord, stream\n",
    "from tensorflow.keras.layers import Activation, Dense, Bidirectional, LSTM, LeakyReLU, BatchNormalization, Reshape, Input\n",
    "from tensorflow.keras.models import Sequential, Model, load_model\n",
    "from tensorflow.keras.utils import to_categorical\n",
    "from tensorflow.keras.callbacks import ModelCheckpoint\n",
    "from tensorflow.keras.optimizers import Adam\n",
    "from tensorflow.keras.utils import plot_model\n",
    "os.environ['TF_FORCE_GPU_ALLOW_GROWTH'] = 'true'"
   ]
  },
  {
   "cell_type": "code",
   "execution_count": 2,
   "id": "alpine-dietary",
   "metadata": {},
   "outputs": [],
   "source": [
    "PATH_TO_GEN_MODEL = './Models/generator_model.h5'\n",
    "PATH_TO_RESULT_DIR = './Results/'\n",
    "latent_dim = 1000"
   ]
  },
  {
   "cell_type": "code",
   "execution_count": 3,
   "id": "hearing-leeds",
   "metadata": {},
   "outputs": [],
   "source": [
    "notes_file = open('notes', 'rb')\n",
    "notes = pickle.load(notes_file)"
   ]
  },
  {
   "cell_type": "code",
   "execution_count": 4,
   "id": "shared-initial",
   "metadata": {},
   "outputs": [
    {
     "name": "stdout",
     "output_type": "stream",
     "text": [
      "Integer to Note mapping: \n",
      "\n",
      "{0: '0.3.6', 1: '0.3.7', 2: '0.4.7', 3: '0.4.8', 4: '1.4.7', 5: '1.4.7.9', 6: '1.4.8', 7: '10.1.4.6', 8: '10.2.5', 9: '11.2.4.7', 10: '11.2.5.7', 11: '11.2.6', 12: '11.3.6', 13: '2.5.8', 14: '2.5.8.10', 15: '2.5.9', 16: '2.6.9', 17: '3.6.9.11', 18: '3.7.10', 19: '4.7.10', 20: '4.7.10.0', 21: '4.7.11', 22: '4.8.11', 23: '5.8.11', 24: '5.9.0', 25: '6.10.1', 26: '6.9.0.2', 27: '6.9.0.2.3', 28: '6.9.1', 29: '6.9.11', 30: '6.9.11.2', 31: '7.10.1', 32: '7.10.2', 33: '7.11.2', 34: '7.9.1', 35: '8.11.2.4', 36: '8.11.2.4.5', 37: '9.0.3', 38: '9.0.3.5', 39: '9.0.4', 40: '9.1', 41: '9.1.4', 42: '9.11.2.5', 43: 'A3', 44: 'A4', 45: 'A5', 46: 'B-3', 47: 'B-4', 48: 'B-5', 49: 'B3', 50: 'B4', 51: 'B5', 52: 'C#4', 53: 'C#5', 54: 'C#6', 55: 'C4', 56: 'C5', 57: 'C6', 58: 'D4', 59: 'D5', 60: 'D6', 61: 'E-4', 62: 'E-5', 63: 'E4', 64: 'E5', 65: 'F#4', 66: 'F#5', 67: 'F4', 68: 'F5', 69: 'G#3', 70: 'G#4', 71: 'G#5', 72: 'G3', 73: 'G4', 74: 'G5'}\n"
     ]
    }
   ],
   "source": [
    "sequence_length = 100\n",
    "\n",
    "unique_notes = sorted(set(notes))\n",
    "unique_notes_count = len(unique_notes)\n",
    "\n",
    "int_to_note = dict((index, note) for index, note in enumerate(unique_notes))\n",
    "note_to_int = dict((note, index) for index, note in enumerate(unique_notes))\n",
    "\n",
    "print('Integer to Note mapping: \\n')\n",
    "print(int_to_note)"
   ]
  },
  {
   "cell_type": "code",
   "execution_count": 5,
   "id": "organic-beads",
   "metadata": {},
   "outputs": [],
   "source": [
    "generator_model = load_model(PATH_TO_GEN_MODEL, compile = False)"
   ]
  },
  {
   "cell_type": "code",
   "execution_count": 12,
   "id": "formal-lodge",
   "metadata": {},
   "outputs": [
    {
     "name": "stdout",
     "output_type": "stream",
     "text": [
      "['F4', 'G5', '0.3.6', 'G5', '0.3.7', '8.11.2.4', '7.11.2', '0.4.7', 'G#5', '10.2.5', 'E4', '11.2.6', 'E5', 'C6', 'F#4', '6.9.0.2', 'G3', 'C4', '0.3.7', '0.4.7', 'B4', '0.4.8', '0.4.8', '8.11.2.4', '0.3.6', '2.5.8', 'C#4', '6.9.11.2', 'C4', '11.2.4.7', '0.3.6', '9.1', '0.3.6', 'G5', '0.3.6', '0.3.6', 'F#4', '0.3.6', '0.3.6', 'C5', '0.3.6', '0.3.6', 'G3', '0.3.6', 'C4', '0.3.6', '11.3.6', 'G5', '0.3.6', '5.8.11', '11.2.4.7', '0.3.6', 'B-5', '9.0.3', '2.5.9', '10.1.4.6', '10.2.5', 'E-4', 'C#5', '10.2.5', '1.4.7.9', 'G5', '10.1.4.6', '6.9.0.2', '4.7.11', '4.7.10.0', 'G3', '0.4.8', '0.3.7', '8.11.2.4', 'D6', 'A4', '0.4.8', '11.2.4.7', 'G4', '2.5.8', '6.9.1', '6.9.11.2', '0.3.7', 'F5', 'C4', 'C4', '1.4.7.9', 'C4', 'G4', '0.3.6', 'G3', 'G#3', 'F#4', 'C#6', 'B3', 'C4', 'G#4', 'E-5', '9.0.4', 'G4', '2.5.9', 'G5', '1.4.8', 'G5']\n"
     ]
    }
   ],
   "source": [
    "noise = np.random.normal(0, 1, (1, latent_dim))\n",
    "prediction = generator_model.predict(noise)\n",
    "predicted_notes = [x*(float(unique_notes_count)/2) +(float(unique_notes_count)/2) for x in prediction[0]]\n",
    "predicted_notes = [int_to_note[int(x)] for x in predicted_notes]\n",
    "print(predicted_notes)"
   ]
  },
  {
   "cell_type": "code",
   "execution_count": 13,
   "id": "awful-nitrogen",
   "metadata": {},
   "outputs": [
    {
     "data": {
      "text/plain": [
       "'./Results/result_GAN.mid'"
      ]
     },
     "execution_count": 13,
     "metadata": {},
     "output_type": "execute_result"
    }
   ],
   "source": [
    "time_offset = 0\n",
    "output_notes = []\n",
    "\n",
    "for element in predicted_notes:\n",
    "    item = element[0]\n",
    "    \n",
    "    # if item is a chord, i.e, if the item is a digit or it contains a dot (.)\n",
    "    if item.isdigit() or ('.' in item):\n",
    "        notes_in_chord = item.split('.')\n",
    "        extracted_notes = []\n",
    "        \n",
    "        for current_note in notes_in_chord:\n",
    "            new_note = note.Note(int(current_note))\n",
    "            new_note.storedInstrument = instrument.Piano()\n",
    "            extracted_notes.append(new_note)\n",
    "            \n",
    "        new_chord = chord.Chord(extracted_notes)\n",
    "        new_chord.offset = time_offset\n",
    "        output_notes.append(new_chord)\n",
    "    else:\n",
    "        # pattern is a note\n",
    "        new_note = note.Note(item)\n",
    "        new_note.offset = time_offset\n",
    "        new_note.storedInstrument = instrument.Piano()\n",
    "        output_notes.append(new_note)\n",
    "        \n",
    "    time_offset += 0.5\n",
    "\n",
    "new_midi_stream = stream.Stream(output_notes)\n",
    "new_midi_stream.write('midi', fp=PATH_TO_RESULT_DIR + 'result_GAN.mid')"
   ]
  },
  {
   "cell_type": "code",
   "execution_count": null,
   "id": "armed-release",
   "metadata": {},
   "outputs": [],
   "source": []
  }
 ],
 "metadata": {
  "kernelspec": {
   "display_name": "Python 3",
   "language": "python",
   "name": "python3"
  },
  "language_info": {
   "codemirror_mode": {
    "name": "ipython",
    "version": 3
   },
   "file_extension": ".py",
   "mimetype": "text/x-python",
   "name": "python",
   "nbconvert_exporter": "python",
   "pygments_lexer": "ipython3",
   "version": "3.8.8"
  }
 },
 "nbformat": 4,
 "nbformat_minor": 5
}
